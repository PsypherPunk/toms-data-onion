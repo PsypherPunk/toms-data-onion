{
 "cells": [
  {
   "cell_type": "markdown",
   "id": "cc11ddb5",
   "metadata": {},
   "source": [
    "# Tom's Data Onion"
   ]
  },
  {
   "cell_type": "markdown",
   "id": "f9b1709f",
   "metadata": {},
   "source": [
    "## Setup\n",
    "\n",
    "Retrieve—but cache—the HTML page and grab the initial layer from the `<pre></pre>` tags."
   ]
  },
  {
   "cell_type": "code",
   "execution_count": 1,
   "id": "b439064f",
   "metadata": {},
   "outputs": [],
   "source": [
    "import html\n",
    "import pathlib\n",
    "\n",
    "\n",
    "def start_toms_data_onion():\n",
    "    path = pathlib.Path().resolve() / \"toms-data-onion.html\"\n",
    "\n",
    "    if not path.exists():\n",
    "        request = urllib.request.Request(\"https://www.tomdalling.com/toms-data-onion/\")\n",
    "        request.add_header(\n",
    "            \"User-Agent\",\n",
    "            \"toms-data-onion\",\n",
    "        )\n",
    "        with urllib.request.urlopen(request) as r:\n",
    "            body = r.read()\n",
    "            with open(path, \"wb\") as o:\n",
    "                o.write(body)\n",
    "\n",
    "    with open(path, \"r\") as i:\n",
    "        body = i.read()\n",
    "\n",
    "    body = html.unescape(body)\n",
    "\n",
    "    start = body.index(\"<pre>\") + 5\n",
    "    end = body.index(\"</pre>\")\n",
    "\n",
    "    with open(\"layer-0.txt\", \"w\") as o:\n",
    "        o.write(body[start:end])\n",
    "\n",
    "\n",
    "toms_data_onion = start_toms_data_onion()"
   ]
  },
  {
   "cell_type": "markdown",
   "id": "f17ecc2f",
   "metadata": {},
   "source": [
    "We're going to be doing this a lot, so define a function to retrieve the Ascii85-encoded block from each layer:"
   ]
  },
  {
   "cell_type": "code",
   "execution_count": 2,
   "id": "e1763e7b",
   "metadata": {},
   "outputs": [],
   "source": [
    "def get_payload(path: str) -> str:\n",
    "    with open(pathlib.Path().resolve() / path) as i:\n",
    "        txt = i.read()\n",
    "\n",
    "    start = txt.index(\"<~\")\n",
    "    end = txt.index(\"~>\", start) + 2\n",
    "\n",
    "    return \"\".join(txt[start:end].splitlines())"
   ]
  },
  {
   "cell_type": "markdown",
   "id": "1d399932",
   "metadata": {},
   "source": [
    "## Layer 0/6: ASCII85\n",
    "   \n",
    "It turns out that Python's standard library—via the `base64` module—already has support for decoded Ascii85, even specifically the Adobe-flavoured version."
   ]
  },
  {
   "cell_type": "code",
   "execution_count": 3,
   "id": "6e9d9434",
   "metadata": {},
   "outputs": [],
   "source": [
    "import base64\n",
    "\n",
    "\n",
    "layer0 = get_payload(\"layer-0.txt\")\n",
    "decoded = base64.a85decode(layer0.encode(\"utf-8\"), adobe=True)\n",
    "\n",
    "with open(\"layer-1.txt\", \"wb\") as o:\n",
    "    o.write(decoded)"
   ]
  },
  {
   "cell_type": "markdown",
   "id": "91d5136e",
   "metadata": {},
   "source": [
    "## Layer 1/6: Bitwise Operations"
   ]
  },
  {
   "cell_type": "code",
   "execution_count": 4,
   "id": "9bd3f5cd",
   "metadata": {},
   "outputs": [],
   "source": [
    "layer1 = get_payload(\"layer-1.txt\")\n",
    "decoded = base64.a85decode(layer1.encode(\"utf-8\"), adobe=True)"
   ]
  },
  {
   "cell_type": "markdown",
   "id": "5fde57e9",
   "metadata": {},
   "source": [
    "As the instructions say, we need to _\"Flip every second bit\"_. To do so, we can XOR each byte with `01010101`:"
   ]
  },
  {
   "cell_type": "code",
   "execution_count": 5,
   "id": "24c4bb6c",
   "metadata": {},
   "outputs": [],
   "source": [
    "xord = [byte ^ int(\"01010101\", 2) for byte in decoded]"
   ]
  },
  {
   "cell_type": "markdown",
   "id": "a53b9a3c",
   "metadata": {},
   "source": [
    "Rotation is more complicated:\n",
    "\n",
    "- shift everything one bit.\n",
    "- move the bit that was previously in the least significant position to the most significant.\n",
    "\n",
    "That translates to, for each _byte_:\n",
    "\n",
    "- `byte >> 1`\n",
    "- `(byte & 1) << 7`"
   ]
  },
  {
   "cell_type": "code",
   "execution_count": 6,
   "id": "080b6504",
   "metadata": {},
   "outputs": [],
   "source": [
    "rotated = [(byte >> 1) | ((byte & 1) << 7) for byte in xord]"
   ]
  },
  {
   "cell_type": "markdown",
   "id": "1914f35f",
   "metadata": {},
   "source": [
    "That will give us the next layer."
   ]
  },
  {
   "cell_type": "code",
   "execution_count": 7,
   "id": "2117a148",
   "metadata": {},
   "outputs": [],
   "source": [
    "with open(\"layer-2.txt\", \"wb\") as o:\n",
    "    o.write(bytearray(rotated))"
   ]
  },
  {
   "cell_type": "markdown",
   "id": "7b3e3082",
   "metadata": {},
   "source": [
    "## Layer 2/6: Parity Bit"
   ]
  },
  {
   "cell_type": "code",
   "execution_count": 8,
   "id": "113c391f",
   "metadata": {},
   "outputs": [],
   "source": [
    "layer2 = get_payload(\"layer-2.txt\")\n",
    "decoded = base64.a85decode(layer2.encode(\"utf-8\"), adobe=True)"
   ]
  },
  {
   "cell_type": "markdown",
   "id": "3475a163",
   "metadata": {},
   "source": [
    "The _parity_ bit here, using a method similar to the previous layer, will be `byte & 1`; the remaining 7 bits of data will be `byte >> 1`.\n",
    "\n",
    "I'm unsure of a simple way to count occurrences of binary digits in Python. However, we can easily convert each `byte` to its binary representation via the [`bin()`](https://docs.python.org/3.8/library/functions.html#bin) function—we can then make use of the [`count()`](https://docs.python.org/3.8/library/stdtypes.html#str.count) function on the resulting `str`.\n",
    "\n",
    "Given the above and the specification for verifying the parity bit, a validation function will be:"
   ]
  },
  {
   "cell_type": "code",
   "execution_count": 9,
   "id": "6a8b0046",
   "metadata": {},
   "outputs": [],
   "source": [
    "def is_valid_byte(byte: int):\n",
    "    parity = byte & 1\n",
    "    first_seven = byte >> 1\n",
    "    ones = bin(first_seven).count(\"1\")\n",
    "\n",
    "    if ones % 2 == 0 and parity == 0:\n",
    "        return True\n",
    "    elif ones % 2 != 0 and parity == 1:\n",
    "        return True\n",
    "\n",
    "    return False"
   ]
  },
  {
   "cell_type": "markdown",
   "id": "f6c55349",
   "metadata": {},
   "source": [
    "We can then apply that function to the decoded input and, as per the instructions, divide up the input into batches of 8 bytes:"
   ]
  },
  {
   "cell_type": "code",
   "execution_count": 10,
   "id": "0d229725",
   "metadata": {},
   "outputs": [],
   "source": [
    "valid = list(filter(is_valid_byte, decoded))\n",
    "chunks = [valid[i : i + 8] for i in range(0, len(valid), 8)]"
   ]
  },
  {
   "cell_type": "markdown",
   "id": "73fefc71",
   "metadata": {},
   "source": [
    "\n",
    "We start with a batch of 8 bytes:\n",
    "\n",
    "```txt\n",
    "00000000\n",
    "11111111\n",
    "00000000\n",
    "11111111\n",
    "00000000\n",
    "11111111\n",
    "00000000\n",
    "11111111\n",
    "```\n",
    "\n",
    "Each byte is bit-shifted one place to the right:\n",
    "\n",
    "```txt\n",
    " 0000000\n",
    " 1111111\n",
    " 0000000\n",
    " 1111111\n",
    " 0000000\n",
    " 1111111\n",
    " 0000000\n",
    " 1111111\n",
    "```\n",
    "\n",
    "The trick then is combining each byte into a single, 56-bit integer (we need to combine them as there's no way to write 7 bits of a byte to our output.)\n",
    "\n",
    "Combining them would look something like this:\n",
    "\n",
    "```txt\n",
    "         49     42     35     28     21     14     7\n",
    "0 0000000\n",
    "1        1111111\n",
    "2               0000000\n",
    "3                      1111111\n",
    "4                             0000000\n",
    "5                                    1111111\n",
    "6                                           0000000\n",
    "7                                                  1111111\n",
    "```\n",
    "\n",
    "That is: the first byte must be shifted 49 bits to the left, the second 42, the third 35, etc. The pattern here translates to: `7 * (7 - offset)` (where `offset` is the bytes position in the batch.)"
   ]
  },
  {
   "cell_type": "code",
   "execution_count": 11,
   "id": "e532367b",
   "metadata": {},
   "outputs": [],
   "source": [
    "with open(\"layer-3.txt\", \"wb\") as o:\n",
    "    for chunk in chunks:\n",
    "        result = 0\n",
    "        for offset in range(len(chunk)):\n",
    "            result |= (chunk[offset] >> 1) << (7 * (7 - offset))\n",
    "        o.write(result.to_bytes(7, byteorder=\"big\"))"
   ]
  },
  {
   "cell_type": "markdown",
   "id": "2c8b501e",
   "metadata": {},
   "source": [
    "## Layer 3/6: XOR Encryption"
   ]
  },
  {
   "cell_type": "code",
   "execution_count": 12,
   "id": "904a8084",
   "metadata": {},
   "outputs": [],
   "source": [
    "layer3 = get_payload(\"layer-3.txt\")\n",
    "decoded = base64.a85decode(layer3.encode(\"utf-8\"), adobe=True)"
   ]
  },
  {
   "cell_type": "markdown",
   "id": "fe61b2a2",
   "metadata": {},
   "source": [
    "To start with, there are two pieces of decrypted data that we already know: the start of the next layer and the payload indicator therein:"
   ]
  },
  {
   "cell_type": "code",
   "execution_count": 13,
   "id": "f921e940",
   "metadata": {},
   "outputs": [],
   "source": [
    "known_start = b\"==[ Layer 4/6: \"\n",
    "known_text = b\"==[ Payload ]===============================================\""
   ]
  },
  {
   "cell_type": "markdown",
   "id": "baab43e8",
   "metadata": {},
   "source": [
    "As indicated in the instructions, we know that for each byte of the encrypted payload `encrypted_byte ^ key_byte == decrypted_byte`. Similarly, `decrypted_byte ^ encrypted_byte == key_byte`.\n",
    "\n",
    "Given the above known-output, we can determine the start of the key (and extend it to 32 bytes):"
   ]
  },
  {
   "cell_type": "code",
   "execution_count": 14,
   "id": "5f71acd7",
   "metadata": {},
   "outputs": [],
   "source": [
    "key = bytearray(d ^ p for (d, p) in zip(decoded, known_start))\n",
    "key.extend(bytearray(32 - len(known_start)))"
   ]
  },
  {
   "cell_type": "markdown",
   "id": "f06c6bd6",
   "metadata": {},
   "source": [
    "Armed with our partial key, we can iterate through each 32-byte section of the data (each of which would be decrypted by the full, 32-byte key) and decrypt the starting bytes of it with our partial key.\n",
    "\n",
    "If, at any point, we decrypt a section which appears in the known piece of text we know to be present in the output (`known_text`, above), we have the key!"
   ]
  },
  {
   "cell_type": "code",
   "execution_count": 15,
   "id": "dd72f6f5",
   "metadata": {},
   "outputs": [],
   "source": [
    "for i in range(64, len(decoded) - 32, 32):\n",
    "    partial = bytearray(decoded[i + j] ^ key[j] for j in range(len(known_start)))\n",
    "\n",
    "    if (index := known_text.find(partial)) == -1:\n",
    "        continue\n",
    "\n",
    "    key = bytearray(decoded[i + k] ^ known_text[index + k] for k in range(32))\n",
    "    break"
   ]
  },
  {
   "cell_type": "markdown",
   "id": "45150dfd",
   "metadata": {},
   "source": [
    "We can cycle the key, as per the instructions, to the length of the input:"
   ]
  },
  {
   "cell_type": "code",
   "execution_count": 16,
   "id": "b06dda3a",
   "metadata": {},
   "outputs": [],
   "source": [
    "cycled_key = key * ((len(decoded) // 32) + 1)\n",
    "\n",
    "with open(\"layer-4.txt\", \"wb\") as o:\n",
    "    o.write(bytearray(c ^ k for (c, k) in zip(decoded, cycled_key)))"
   ]
  },
  {
   "cell_type": "markdown",
   "id": "a38d25cc",
   "metadata": {},
   "source": [
    "## Layer 4/6: Network Traffic"
   ]
  },
  {
   "cell_type": "code",
   "execution_count": 17,
   "id": "dcc42168",
   "metadata": {},
   "outputs": [],
   "source": [
    "layer4 = get_payload(\"layer-4.txt\")\n",
    "decoded = base64.a85decode(layer4.encode(\"utf-8\"), adobe=True)"
   ]
  },
  {
   "cell_type": "markdown",
   "id": "9c5a05e2",
   "metadata": {},
   "source": [
    "I _really_ wanted to stick to the standard library for all this. Parsing IP/UDP packets? How often do you get to do that?\n",
    "\n",
    "This is what I came up with for parsing each packet using Python's [`struct`](https://docs.python.org/3/library/struct.html#format-characters) module, mostly thanks to Wikipedia's pages on [_IPv4_](https://en.wikipedia.org/wiki/IPv4#Header) and [_UDP_](https://en.wikipedia.org/wiki/User_Datagram_Protocol#UDP_datagram_structure):"
   ]
  },
  {
   "cell_type": "code",
   "execution_count": 18,
   "id": "ea6fee1c",
   "metadata": {},
   "outputs": [],
   "source": [
    "class Ipv4Header:\n",
    "    def __init__(self, data: bytes):\n",
    "        self._raw_bytes = data\n",
    "        (\n",
    "            _ihl_version,\n",
    "            _dscp_ecn,\n",
    "            self.length,\n",
    "            self.identification,\n",
    "            _flags_offset,\n",
    "            self.ttl,\n",
    "            self.protocol,\n",
    "            self.checksum,\n",
    "            self.source,\n",
    "            self.dest,\n",
    "        ) = struct.unpack(\">BBHHHBBHII\", data)\n",
    "        self.version = _ihl_version >> 4\n",
    "        self.ihl = _ihl_version & int(\"00001111\", 2)\n",
    "        self.dscp = _dscp_ecn >> 2\n",
    "        self.ecn = _dscp_ecn & 0x3\n",
    "        self.flags = _flags_offset >> 13\n",
    "        self.offset = _flags_offset & int(\"0001111111111111\", 2)\n",
    "\n",
    "\n",
    "class UdpHeader:\n",
    "    def __init__(self, data: bytes):\n",
    "        self._raw_bytes = data\n",
    "        (\n",
    "            self.source_port,\n",
    "            self.dest_port,\n",
    "            self.length,\n",
    "            self.checksum,\n",
    "        ) = struct.unpack(\">HHHH\", data)"
   ]
  },
  {
   "cell_type": "markdown",
   "id": "d50c4c03",
   "metadata": {},
   "source": [
    "However, when validating the header checksums, I bailed:\n",
    "\n",
    "> _\"The checksum field is the 16 bit one's complement of the one's complement sum of all 16 bit words in the header. For purposes of computing the checksum, the value of the checksum field is zero.\"_\n",
    "\n",
    "After several attempts, I found myself looking at the implementation in [`scapy`](https://scapy.net/)…at which point I realised I was staring at a library intended for this very purpose."
   ]
  },
  {
   "cell_type": "code",
   "execution_count": 19,
   "id": "759012af",
   "metadata": {},
   "outputs": [],
   "source": [
    "from scapy.all import IP, UDP"
   ]
  },
  {
   "cell_type": "markdown",
   "id": "008c272c",
   "metadata": {},
   "source": [
    "We can easily turn our input into a stream of packets, as per the instructions, and parse those 20 and 8 byte sections into an IP and UDP packet respectively:"
   ]
  },
  {
   "cell_type": "code",
   "execution_count": 24,
   "id": "bfe1ffaf",
   "metadata": {},
   "outputs": [],
   "source": [
    "import io\n",
    "\n",
    "\n",
    "stream = io.BytesIO(decoded)\n",
    "\n",
    "ip = IP(stream.read(20))\n",
    "udp = UDP(stream.read(8))"
   ]
  },
  {
   "cell_type": "markdown",
   "id": "d6632a9d",
   "metadata": {},
   "source": [
    "The resulting headers will give us the source (`IP.src`) and destination (`IP.dst`) addresses, along with the destination port (`UDP.dport`).\n",
    "\n",
    "Validation of the checksum, however, is somewhat complicated.\n",
    "\n",
    "Reviewing the [`scapy.packet.Packet.show2()`](https://github.com/secdev/scapy/blob/a86ad5c/scapy/packet.py#L1449) function shows how `scapy` does calculates the checksum for a packet: by first removing the `chksum` field, then building a new packet. Leveraging this, we can infer that comparing the `chksum` of the original packet to a version derived using the aforementioned method should tell us if a packet is valid:"
   ]
  },
  {
   "cell_type": "code",
   "execution_count": 28,
   "id": "0dcccaaf",
   "metadata": {},
   "outputs": [],
   "source": [
    "import copy\n",
    "from typing import Union\n",
    "\n",
    "from scapy.compat import raw\n",
    "\n",
    "\n",
    "def is_valid(packet: Union[IP, UDP]) -> bool:\n",
    "    _copy = copy.deepcopy(packet)\n",
    "    del _copy.chksum\n",
    "    return _copy.__class__(raw(_copy)).chksum == packet.chksum"
   ]
  },
  {
   "cell_type": "markdown",
   "id": "c2f75008",
   "metadata": {},
   "source": [
    "That said, it doesn't _quite_ work as described.\n",
    "\n",
    "The following is the method I used to write out the final, valid packet payloads.\n",
    "\n",
    "Firstly, create the empty file (as I'll be appending to the output, I want to make sure the file is empty on subsequent runs):"
   ]
  },
  {
   "cell_type": "code",
   "execution_count": 22,
   "id": "99ec1c77",
   "metadata": {},
   "outputs": [],
   "source": [
    "with open(\"layer-5.txt\", \"w\") as o:\n",
    "    ..."
   ]
  },
  {
   "cell_type": "markdown",
   "id": "191cd4cc",
   "metadata": {},
   "source": [
    "Then simply loop over the input stream, reading `IP` and `UDP` packets and checking the criteria for validity.\n",
    "\n",
    "Except my `is_valid()` function _never_ returns `True` for `UDP` instances. In fact, omitting validity-checks for `UDP` packets entirely seems to give a valid result:"
   ]
  },
  {
   "cell_type": "code",
   "execution_count": 29,
   "id": "875021b3",
   "metadata": {},
   "outputs": [],
   "source": [
    "stream.seek(0)\n",
    "\n",
    "while True:\n",
    "    ip = IP(stream.read(20))\n",
    "    if not ip.len:\n",
    "        break\n",
    "\n",
    "    udp = UDP(stream.read(8))\n",
    "    data = stream.read(ip.len - 28)\n",
    "    \n",
    "    if ip.src == \"10.1.1.10\":\n",
    "        if ip.dst == \"10.1.1.200\" and udp.dport == 42069:\n",
    "            if is_valid(ip): # and is_valid(udp):\n",
    "                with open(\"layer-5.txt\", \"ab\") as o:\n",
    "                    o.write(data)\n"
   ]
  }
 ],
 "metadata": {
  "kernelspec": {
   "display_name": "Python 3 (ipykernel)",
   "language": "python",
   "name": "python3"
  },
  "language_info": {
   "codemirror_mode": {
    "name": "ipython",
    "version": 3
   },
   "file_extension": ".py",
   "mimetype": "text/x-python",
   "name": "python",
   "nbconvert_exporter": "python",
   "pygments_lexer": "ipython3",
   "version": "3.10.7"
  }
 },
 "nbformat": 4,
 "nbformat_minor": 5
}
